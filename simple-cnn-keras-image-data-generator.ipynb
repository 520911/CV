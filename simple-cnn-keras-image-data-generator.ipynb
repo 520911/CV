{
 "cells": [
  {
   "cell_type": "code",
   "execution_count": 1,
   "id": "deec5bbb",
   "metadata": {
    "_cell_guid": "b1076dfc-b9ad-4769-8c92-a6c4dae69d19",
    "_uuid": "8f2839f25d086af736a60e9eeb907d3b93b6e0e5",
    "execution": {
     "iopub.execute_input": "2023-02-01T04:54:41.177520Z",
     "iopub.status.busy": "2023-02-01T04:54:41.176465Z",
     "iopub.status.idle": "2023-02-01T04:54:41.190921Z",
     "shell.execute_reply": "2023-02-01T04:54:41.189843Z"
    },
    "papermill": {
     "duration": 0.027491,
     "end_time": "2023-02-01T04:54:41.194479",
     "exception": false,
     "start_time": "2023-02-01T04:54:41.166988",
     "status": "completed"
    },
    "tags": []
   },
   "outputs": [
    {
     "name": "stdout",
     "output_type": "stream",
     "text": [
      "/kaggle/input/digit-recognizer/sample_submission.csv\n",
      "/kaggle/input/digit-recognizer/train.csv\n",
      "/kaggle/input/digit-recognizer/test.csv\n"
     ]
    }
   ],
   "source": [
    "# This Python 3 environment comes with many helpful analytics libraries installed\n",
    "# It is defined by the kaggle/python Docker image: https://github.com/kaggle/docker-python\n",
    "# For example, here's several helpful packages to load\n",
    "\n",
    "import numpy as np # linear algebra\n",
    "import pandas as pd # data processing, CSV file I/O (e.g. pd.read_csv)\n",
    "\n",
    "# Input data files are available in the read-only \"../input/\" directory\n",
    "# For example, running this (by clicking run or pressing Shift+Enter) will list all files under the input directory\n",
    "\n",
    "import os\n",
    "for dirname, _, filenames in os.walk('/kaggle/input'):\n",
    "    for filename in filenames:\n",
    "        print(os.path.join(dirname, filename))\n",
    "\n",
    "# You can write up to 20GB to the current directory (/kaggle/working/) that gets preserved as output when you create a version using \"Save & Run All\" \n",
    "# You can also write temporary files to /kaggle/temp/, but they won't be saved outside of the current session"
   ]
  },
  {
   "cell_type": "code",
   "execution_count": 2,
   "id": "0822196c",
   "metadata": {
    "execution": {
     "iopub.execute_input": "2023-02-01T04:54:41.211214Z",
     "iopub.status.busy": "2023-02-01T04:54:41.210270Z",
     "iopub.status.idle": "2023-02-01T04:54:48.062588Z",
     "shell.execute_reply": "2023-02-01T04:54:48.061577Z"
    },
    "papermill": {
     "duration": 6.8629,
     "end_time": "2023-02-01T04:54:48.065303",
     "exception": false,
     "start_time": "2023-02-01T04:54:41.202403",
     "status": "completed"
    },
    "tags": []
   },
   "outputs": [],
   "source": [
    "import tensorflow as tf\n",
    "import keras\n",
    "from tensorflow.keras.optimizers import Adam \n",
    "from keras.utils.np_utils import to_categorical\n",
    "from keras.models import Sequential\n",
    "from keras.layers import (Conv2D, MaxPooling2D, Flatten, Dense, \n",
    "                          Dropout, Rescaling, RandomFlip, RandomRotation, BatchNormalization)\n",
    "from tensorflow.keras.callbacks import EarlyStopping, ModelCheckpoint, ReduceLROnPlateau\n",
    "from tensorflow.keras.optimizers import RMSprop\n",
    "\n",
    "from sklearn.model_selection import train_test_split\n",
    "from sklearn.preprocessing import StandardScaler\n",
    "from sklearn.metrics import accuracy_score, confusion_matrix, classification_report\n",
    "\n",
    "import seaborn as sns\n",
    "import matplotlib.pyplot as plt"
   ]
  },
  {
   "cell_type": "code",
   "execution_count": 3,
   "id": "c3a1f54f",
   "metadata": {
    "execution": {
     "iopub.execute_input": "2023-02-01T04:54:48.079928Z",
     "iopub.status.busy": "2023-02-01T04:54:48.079377Z",
     "iopub.status.idle": "2023-02-01T04:55:18.110749Z",
     "shell.execute_reply": "2023-02-01T04:55:18.109680Z"
    },
    "papermill": {
     "duration": 30.041136,
     "end_time": "2023-02-01T04:55:18.113255",
     "exception": false,
     "start_time": "2023-02-01T04:54:48.072119",
     "status": "completed"
    },
    "tags": []
   },
   "outputs": [],
   "source": [
    "train = np.loadtxt('../input/digit-recognizer/train.csv', delimiter=',', skiprows=1)\n",
    "test = np.loadtxt('../input/digit-recognizer/test.csv', delimiter=',', skiprows=1)"
   ]
  },
  {
   "cell_type": "code",
   "execution_count": 4,
   "id": "19603a2a",
   "metadata": {
    "execution": {
     "iopub.execute_input": "2023-02-01T04:55:18.130148Z",
     "iopub.status.busy": "2023-02-01T04:55:18.128646Z",
     "iopub.status.idle": "2023-02-01T04:55:18.338778Z",
     "shell.execute_reply": "2023-02-01T04:55:18.337765Z"
    },
    "papermill": {
     "duration": 0.220662,
     "end_time": "2023-02-01T04:55:18.341168",
     "exception": false,
     "start_time": "2023-02-01T04:55:18.120506",
     "status": "completed"
    },
    "tags": []
   },
   "outputs": [],
   "source": [
    "train_label = train[:, 0]\n",
    "\n",
    "train_img = np.resize(train[:, 1:], (train.shape[0], 28, 28))\n",
    "test_img = np.resize(test, (test.shape[0], 28, 28))"
   ]
  },
  {
   "cell_type": "markdown",
   "id": "8d6bf37c",
   "metadata": {
    "papermill": {
     "duration": 0.006241,
     "end_time": "2023-02-01T04:55:18.354164",
     "exception": false,
     "start_time": "2023-02-01T04:55:18.347923",
     "status": "completed"
    },
    "tags": []
   },
   "source": [
    "## Let’s visualize few data from training"
   ]
  },
  {
   "cell_type": "code",
   "execution_count": 5,
   "id": "35162457",
   "metadata": {
    "execution": {
     "iopub.execute_input": "2023-02-01T04:55:18.367757Z",
     "iopub.status.busy": "2023-02-01T04:55:18.367447Z",
     "iopub.status.idle": "2023-02-01T04:55:18.880645Z",
     "shell.execute_reply": "2023-02-01T04:55:18.879782Z"
    },
    "papermill": {
     "duration": 0.522512,
     "end_time": "2023-02-01T04:55:18.882772",
     "exception": false,
     "start_time": "2023-02-01T04:55:18.360260",
     "status": "completed"
    },
    "tags": []
   },
   "outputs": [
    {
     "data": {
      "image/png": "[encoded data removed]",
      "text/plain": [
       "<Figure size 1440x720 with 5 Axes>"
      ]
     },
     "metadata": {
      "needs_background": "light"
     },
     "output_type": "display_data"
    }
   ],
   "source": [
    "fig = plt.figure(figsize=(20, 10))\n",
    "for i, img in enumerate(train_img[0:5], 1):\n",
    "    subplot = fig.add_subplot(1, 7, i)\n",
    "    plt.imshow(img, cmap='gray');\n",
    "    subplot.set_title('%s' % train_label[i - 1]);"
   ]
  },
  {
   "cell_type": "markdown",
   "id": "3884b8f5",
   "metadata": {
    "papermill": {
     "duration": 0.006611,
     "end_time": "2023-02-01T04:55:18.896319",
     "exception": false,
     "start_time": "2023-02-01T04:55:18.889708",
     "status": "completed"
    },
    "tags": []
   },
   "source": [
    "## Check disbalance target classes"
   ]
  },
  {
   "cell_type": "code",
   "execution_count": 6,
   "id": "eb14c2b3",
   "metadata": {
    "execution": {
     "iopub.execute_input": "2023-02-01T04:55:18.913995Z",
     "iopub.status.busy": "2023-02-01T04:55:18.913151Z",
     "iopub.status.idle": "2023-02-01T04:55:18.923357Z",
     "shell.execute_reply": "2023-02-01T04:55:18.921691Z"
    },
    "papermill": {
     "duration": 0.022062,
     "end_time": "2023-02-01T04:55:18.926819",
     "exception": false,
     "start_time": "2023-02-01T04:55:18.904757",
     "status": "completed"
    },
    "tags": []
   },
   "outputs": [
    {
     "name": "stdout",
     "output_type": "stream",
     "text": [
      "[0. 1. 2. 3. 4. 5. 6. 7. 8. 9.] [4132 4684 4177 4351 4072 3795 4137 4401 4063 4188]\n"
     ]
    }
   ],
   "source": [
    "unique, counts = np.unique(train_label, return_counts=True)\n",
    "print(unique, counts)"
   ]
  },
  {
   "cell_type": "code",
   "execution_count": 7,
   "id": "ed08c0e6",
   "metadata": {
    "execution": {
     "iopub.execute_input": "2023-02-01T04:55:18.942357Z",
     "iopub.status.busy": "2023-02-01T04:55:18.942090Z",
     "iopub.status.idle": "2023-02-01T04:55:18.948196Z",
     "shell.execute_reply": "2023-02-01T04:55:18.947295Z"
    },
    "papermill": {
     "duration": 0.016157,
     "end_time": "2023-02-01T04:55:18.950737",
     "exception": false,
     "start_time": "2023-02-01T04:55:18.934580",
     "status": "completed"
    },
    "tags": []
   },
   "outputs": [
    {
     "name": "stdout",
     "output_type": "stream",
     "text": [
      "Digit 0: 9.838095238095237 %\n",
      "Digit 1: 11.152380952380952 %\n",
      "Digit 2: 9.945238095238096 %\n",
      "Digit 3: 10.359523809523811 %\n",
      "Digit 4: 9.695238095238096 %\n",
      "Digit 5: 9.035714285714286 %\n",
      "Digit 6: 9.85 %\n",
      "Digit 7: 10.47857142857143 %\n",
      "Digit 8: 9.673809523809524 %\n",
      "Digit 9: 9.971428571428572 %\n"
     ]
    }
   ],
   "source": [
    "for i in range(len(unique)):\n",
    "    print(f'Digit {i}: {counts[i] / len(train_label) * 100} %')"
   ]
  },
  {
   "cell_type": "code",
   "execution_count": 8,
   "id": "ff811f1b",
   "metadata": {
    "execution": {
     "iopub.execute_input": "2023-02-01T04:55:18.965362Z",
     "iopub.status.busy": "2023-02-01T04:55:18.965101Z",
     "iopub.status.idle": "2023-02-01T04:55:19.183213Z",
     "shell.execute_reply": "2023-02-01T04:55:19.182349Z"
    },
    "papermill": {
     "duration": 0.227938,
     "end_time": "2023-02-01T04:55:19.185426",
     "exception": false,
     "start_time": "2023-02-01T04:55:18.957488",
     "status": "completed"
    },
    "tags": []
   },
   "outputs": [
    {
     "data": {
      "image/png": "[encoded data removed]",
      "text/plain": [
       "<Figure size 432x288 with 1 Axes>"
      ]
     },
     "metadata": {
      "needs_background": "light"
     },
     "output_type": "display_data"
    }
   ],
   "source": [
    "sns.countplot(x=train_label)\n",
    "plt.xlabel('Digits')\n",
    "plt.show;"
   ]
  },
  {
   "cell_type": "markdown",
   "id": "6c41e911",
   "metadata": {
    "papermill": {
     "duration": 0.006768,
     "end_time": "2023-02-01T04:55:19.199076",
     "exception": false,
     "start_time": "2023-02-01T04:55:19.192308",
     "status": "completed"
    },
    "tags": []
   },
   "source": [
    "## Reacale images"
   ]
  },
  {
   "cell_type": "code",
   "execution_count": 9,
   "id": "aeabc535",
   "metadata": {
    "execution": {
     "iopub.execute_input": "2023-02-01T04:55:19.213754Z",
     "iopub.status.busy": "2023-02-01T04:55:19.213445Z",
     "iopub.status.idle": "2023-02-01T04:55:23.040067Z",
     "shell.execute_reply": "2023-02-01T04:55:23.039095Z"
    },
    "papermill": {
     "duration": 3.836794,
     "end_time": "2023-02-01T04:55:23.042693",
     "exception": false,
     "start_time": "2023-02-01T04:55:19.205899",
     "status": "completed"
    },
    "tags": []
   },
   "outputs": [
    {
     "name": "stderr",
     "output_type": "stream",
     "text": [
      "2023-02-01 04:55:19.358511: I tensorflow/stream_executor/cuda/cuda_gpu_executor.cc:937] successful NUMA node read from SysFS had negative value (-1), but there must be at least one NUMA node, so returning NUMA node zero\n",
      "2023-02-01 04:55:19.360032: I tensorflow/stream_executor/cuda/cuda_gpu_executor.cc:937] successful NUMA node read from SysFS had negative value (-1), but there must be at least one NUMA node, so returning NUMA node zero\n",
      "2023-02-01 04:55:19.531106: I tensorflow/stream_executor/cuda/cuda_gpu_executor.cc:937] successful NUMA node read from SysFS had negative value (-1), but there must be at least one NUMA node, so returning NUMA node zero\n",
      "2023-02-01 04:55:19.532009: I tensorflow/stream_executor/cuda/cuda_gpu_executor.cc:937] successful NUMA node read from SysFS had negative value (-1), but there must be at least one NUMA node, so returning NUMA node zero\n",
      "2023-02-01 04:55:19.532763: I tensorflow/stream_executor/cuda/cuda_gpu_executor.cc:937] successful NUMA node read from SysFS had negative value (-1), but there must be at least one NUMA node, so returning NUMA node zero\n",
      "2023-02-01 04:55:19.533570: I tensorflow/stream_executor/cuda/cuda_gpu_executor.cc:937] successful NUMA node read from SysFS had negative value (-1), but there must be at least one NUMA node, so returning NUMA node zero\n",
      "2023-02-01 04:55:19.535592: I tensorflow/core/platform/cpu_feature_guard.cc:142] This TensorFlow binary is optimized with oneAPI Deep Neural Network Library (oneDNN) to use the following CPU instructions in performance-critical operations:  AVX2 AVX512F FMA\n",
      "To enable them in other operations, rebuild TensorFlow with the appropriate compiler flags.\n",
      "2023-02-01 04:55:19.777568: I tensorflow/stream_executor/cuda/cuda_gpu_executor.cc:937] successful NUMA node read from SysFS had negative value (-1), but there must be at least one NUMA node, so returning NUMA node zero\n",
      "2023-02-01 04:55:19.778482: I tensorflow/stream_executor/cuda/cuda_gpu_executor.cc:937] successful NUMA node read from SysFS had negative value (-1), but there must be at least one NUMA node, so returning NUMA node zero\n",
      "2023-02-01 04:55:19.779288: I tensorflow/stream_executor/cuda/cuda_gpu_executor.cc:937] successful NUMA node read from SysFS had negative value (-1), but there must be at least one NUMA node, so returning NUMA node zero\n",
      "2023-02-01 04:55:19.780021: I tensorflow/stream_executor/cuda/cuda_gpu_executor.cc:937] successful NUMA node read from SysFS had negative value (-1), but there must be at least one NUMA node, so returning NUMA node zero\n",
      "2023-02-01 04:55:19.780746: I tensorflow/stream_executor/cuda/cuda_gpu_executor.cc:937] successful NUMA node read from SysFS had negative value (-1), but there must be at least one NUMA node, so returning NUMA node zero\n",
      "2023-02-01 04:55:19.781420: I tensorflow/stream_executor/cuda/cuda_gpu_executor.cc:937] successful NUMA node read from SysFS had negative value (-1), but there must be at least one NUMA node, so returning NUMA node zero\n",
      "2023-02-01 04:55:22.694800: I tensorflow/stream_executor/cuda/cuda_gpu_executor.cc:937] successful NUMA node read from SysFS had negative value (-1), but there must be at least one NUMA node, so returning NUMA node zero\n",
      "2023-02-01 04:55:22.695710: I tensorflow/stream_executor/cuda/cuda_gpu_executor.cc:937] successful NUMA node read from SysFS had negative value (-1), but there must be at least one NUMA node, so returning NUMA node zero\n",
      "2023-02-01 04:55:22.696452: I tensorflow/stream_executor/cuda/cuda_gpu_executor.cc:937] successful NUMA node read from SysFS had negative value (-1), but there must be at least one NUMA node, so returning NUMA node zero\n",
      "2023-02-01 04:55:22.697177: I tensorflow/stream_executor/cuda/cuda_gpu_executor.cc:937] successful NUMA node read from SysFS had negative value (-1), but there must be at least one NUMA node, so returning NUMA node zero\n",
      "2023-02-01 04:55:22.697874: I tensorflow/stream_executor/cuda/cuda_gpu_executor.cc:937] successful NUMA node read from SysFS had negative value (-1), but there must be at least one NUMA node, so returning NUMA node zero\n",
      "2023-02-01 04:55:22.698526: I tensorflow/core/common_runtime/gpu/gpu_device.cc:1510] Created device /job:localhost/replica:0/task:0/device:GPU:0 with 13789 MB memory:  -> device: 0, name: Tesla T4, pci bus id: 0000:00:04.0, compute capability: 7.5\n",
      "2023-02-01 04:55:22.702071: I tensorflow/stream_executor/cuda/cuda_gpu_executor.cc:937] successful NUMA node read from SysFS had negative value (-1), but there must be at least one NUMA node, so returning NUMA node zero\n",
      "2023-02-01 04:55:22.702754: I tensorflow/core/common_runtime/gpu/gpu_device.cc:1510] Created device /job:localhost/replica:0/task:0/device:GPU:1 with 13789 MB memory:  -> device: 1, name: Tesla T4, pci bus id: 0000:00:05.0, compute capability: 7.5\n"
     ]
    }
   ],
   "source": [
    "rescale = Sequential([\n",
    "  Rescaling(1./255)\n",
    "])"
   ]
  },
  {
   "cell_type": "code",
   "execution_count": 10,
   "id": "a2a24e5f",
   "metadata": {
    "execution": {
     "iopub.execute_input": "2023-02-01T04:55:23.059608Z",
     "iopub.status.busy": "2023-02-01T04:55:23.059304Z",
     "iopub.status.idle": "2023-02-01T04:55:23.275958Z",
     "shell.execute_reply": "2023-02-01T04:55:23.274721Z"
    },
    "papermill": {
     "duration": 0.228155,
     "end_time": "2023-02-01T04:55:23.278710",
     "exception": false,
     "start_time": "2023-02-01T04:55:23.050555",
     "status": "completed"
    },
    "tags": []
   },
   "outputs": [
    {
     "data": {
      "image/png": "[encoded data removed]",
      "text/plain": [
       "<Figure size 432x288 with 1 Axes>"
      ]
     },
     "metadata": {
      "needs_background": "light"
     },
     "output_type": "display_data"
    }
   ],
   "source": [
    "result = rescale(train_img[0])\n",
    "_ = plt.imshow(result)"
   ]
  },
  {
   "cell_type": "code",
   "execution_count": 11,
   "id": "688b4adb",
   "metadata": {
    "execution": {
     "iopub.execute_input": "2023-02-01T04:55:23.301648Z",
     "iopub.status.busy": "2023-02-01T04:55:23.301334Z",
     "iopub.status.idle": "2023-02-01T04:55:23.308701Z",
     "shell.execute_reply": "2023-02-01T04:55:23.307670Z"
    },
    "papermill": {
     "duration": 0.019823,
     "end_time": "2023-02-01T04:55:23.311968",
     "exception": false,
     "start_time": "2023-02-01T04:55:23.292145",
     "status": "completed"
    },
    "tags": []
   },
   "outputs": [
    {
     "name": "stdout",
     "output_type": "stream",
     "text": [
      "Min and max pixel values: 0.0 1.0\n"
     ]
    }
   ],
   "source": [
    "print(\"Min and max pixel values:\", result.numpy().min(), result.numpy().max())"
   ]
  },
  {
   "cell_type": "markdown",
   "id": "2be50518",
   "metadata": {
    "papermill": {
     "duration": 0.007412,
     "end_time": "2023-02-01T04:55:23.327437",
     "exception": false,
     "start_time": "2023-02-01T04:55:23.320025",
     "status": "completed"
    },
    "tags": []
   },
   "source": [
    "## Image augmentation "
   ]
  },
  {
   "cell_type": "code",
   "execution_count": 12,
   "id": "ea4318f7",
   "metadata": {
    "execution": {
     "iopub.execute_input": "2023-02-01T04:55:23.343005Z",
     "iopub.status.busy": "2023-02-01T04:55:23.342736Z",
     "iopub.status.idle": "2023-02-01T04:55:23.358374Z",
     "shell.execute_reply": "2023-02-01T04:55:23.357557Z"
    },
    "papermill": {
     "duration": 0.025405,
     "end_time": "2023-02-01T04:55:23.360349",
     "exception": false,
     "start_time": "2023-02-01T04:55:23.334944",
     "status": "completed"
    },
    "tags": []
   },
   "outputs": [],
   "source": [
    "data_augmentation = Sequential([\n",
    "  RandomFlip(\"horizontal_and_vertical\"),\n",
    "  RandomRotation(0.2),\n",
    "])"
   ]
  },
  {
   "cell_type": "code",
   "execution_count": 13,
   "id": "4b0ab0e0",
   "metadata": {
    "execution": {
     "iopub.execute_input": "2023-02-01T04:55:23.375753Z",
     "iopub.status.busy": "2023-02-01T04:55:23.375476Z",
     "iopub.status.idle": "2023-02-01T04:55:23.380617Z",
     "shell.execute_reply": "2023-02-01T04:55:23.379799Z"
    },
    "papermill": {
     "duration": 0.014941,
     "end_time": "2023-02-01T04:55:23.382668",
     "exception": false,
     "start_time": "2023-02-01T04:55:23.367727",
     "status": "completed"
    },
    "tags": []
   },
   "outputs": [],
   "source": [
    "image = tf.expand_dims(train_img[0], 0)"
   ]
  },
  {
   "cell_type": "code",
   "execution_count": 14,
   "id": "c1092394",
   "metadata": {
    "execution": {
     "iopub.execute_input": "2023-02-01T04:55:23.398877Z",
     "iopub.status.busy": "2023-02-01T04:55:23.398584Z",
     "iopub.status.idle": "2023-02-01T04:55:24.053358Z",
     "shell.execute_reply": "2023-02-01T04:55:24.052192Z"
    },
    "papermill": {
     "duration": 0.66532,
     "end_time": "2023-02-01T04:55:24.055645",
     "exception": false,
     "start_time": "2023-02-01T04:55:23.390325",
     "status": "completed"
    },
    "tags": []
   },
   "outputs": [
    {
     "data": {
      "image/png": "[encoded data removed]",
      "text/plain": [
       "<Figure size 720x720 with 9 Axes>"
      ]
     },
     "metadata": {
      "needs_background": "light"
     },
     "output_type": "display_data"
    }
   ],
   "source": [
    "plt.figure(figsize=(10, 10))\n",
    "for i in range(9):\n",
    "  augmented_image = data_augmentation(image)\n",
    "  ax = plt.subplot(3, 3, i + 1)\n",
    "  plt.imshow(augmented_image[0])\n",
    "  plt.axis(\"off\")"
   ]
  },
  {
   "cell_type": "markdown",
   "id": "4082a329",
   "metadata": {
    "papermill": {
     "duration": 0.007644,
     "end_time": "2023-02-01T04:55:24.070767",
     "exception": false,
     "start_time": "2023-02-01T04:55:24.063123",
     "status": "completed"
    },
    "tags": []
   },
   "source": [
    "## CNN"
   ]
  },
  {
   "cell_type": "code",
   "execution_count": 15,
   "id": "34cc3ff6",
   "metadata": {
    "execution": {
     "iopub.execute_input": "2023-02-01T04:55:24.086791Z",
     "iopub.status.busy": "2023-02-01T04:55:24.086492Z",
     "iopub.status.idle": "2023-02-01T04:55:24.091743Z",
     "shell.execute_reply": "2023-02-01T04:55:24.090831Z"
    },
    "papermill": {
     "duration": 0.015709,
     "end_time": "2023-02-01T04:55:24.093735",
     "exception": false,
     "start_time": "2023-02-01T04:55:24.078026",
     "status": "completed"
    },
    "tags": []
   },
   "outputs": [],
   "source": [
    "Y_train = to_categorical(train_label, num_classes = 10)"
   ]
  },
  {
   "cell_type": "code",
   "execution_count": 16,
   "id": "b9769522",
   "metadata": {
    "execution": {
     "iopub.execute_input": "2023-02-01T04:55:24.109584Z",
     "iopub.status.busy": "2023-02-01T04:55:24.109297Z",
     "iopub.status.idle": "2023-02-01T04:55:24.200359Z",
     "shell.execute_reply": "2023-02-01T04:55:24.199238Z"
    },
    "papermill": {
     "duration": 0.101954,
     "end_time": "2023-02-01T04:55:24.202969",
     "exception": false,
     "start_time": "2023-02-01T04:55:24.101015",
     "status": "completed"
    },
    "tags": []
   },
   "outputs": [],
   "source": [
    "X_train, X_test, y_train, y_test = train_test_split(train_img, Y_train, test_size = 0.2, random_state=42)"
   ]
  },
  {
   "cell_type": "code",
   "execution_count": 17,
   "id": "278cc05f",
   "metadata": {
    "execution": {
     "iopub.execute_input": "2023-02-01T04:55:24.221792Z",
     "iopub.status.busy": "2023-02-01T04:55:24.220206Z",
     "iopub.status.idle": "2023-02-01T04:55:24.226522Z",
     "shell.execute_reply": "2023-02-01T04:55:24.225605Z"
    },
    "papermill": {
     "duration": 0.017468,
     "end_time": "2023-02-01T04:55:24.228581",
     "exception": false,
     "start_time": "2023-02-01T04:55:24.211113",
     "status": "completed"
    },
    "tags": []
   },
   "outputs": [],
   "source": [
    "X_train = X_train.reshape(-1, 28, 28, 1)\n",
    "X_test = X_test.reshape(-1, 28, 28, 1)"
   ]
  },
  {
   "cell_type": "code",
   "execution_count": 18,
   "id": "0f5dfdbe",
   "metadata": {
    "execution": {
     "iopub.execute_input": "2023-02-01T04:55:24.246167Z",
     "iopub.status.busy": "2023-02-01T04:55:24.244338Z",
     "iopub.status.idle": "2023-02-01T04:55:24.249719Z",
     "shell.execute_reply": "2023-02-01T04:55:24.248650Z"
    },
    "papermill": {
     "duration": 0.015765,
     "end_time": "2023-02-01T04:55:24.251762",
     "exception": false,
     "start_time": "2023-02-01T04:55:24.235997",
     "status": "completed"
    },
    "tags": []
   },
   "outputs": [],
   "source": [
    "input_shape = (28, 28, 1)"
   ]
  },
  {
   "cell_type": "code",
   "execution_count": 19,
   "id": "dee55fb7",
   "metadata": {
    "execution": {
     "iopub.execute_input": "2023-02-01T04:55:24.267612Z",
     "iopub.status.busy": "2023-02-01T04:55:24.267344Z",
     "iopub.status.idle": "2023-02-01T04:55:24.352922Z",
     "shell.execute_reply": "2023-02-01T04:55:24.352009Z"
    },
    "papermill": {
     "duration": 0.0965,
     "end_time": "2023-02-01T04:55:24.355522",
     "exception": false,
     "start_time": "2023-02-01T04:55:24.259022",
     "status": "completed"
    },
    "tags": []
   },
   "outputs": [],
   "source": [
    "width_shift_val = 0.1\n",
    "height_shift_val = 0.1\n",
    "shear_range_val=10\n",
    "zoom_range_val= 0.1\n",
    "random_rotation_val = 10\n",
    "datagen = tf.keras.preprocessing.image.ImageDataGenerator(rotation_range = random_rotation_val,width_shift_range = width_shift_val,\n",
    "                                                          height_shift_range = height_shift_val,zoom_range=zoom_range_val,)\n",
    "datagen.fit(X_train)"
   ]
  },
  {
   "cell_type": "code",
   "execution_count": 20,
   "id": "bfe6ab60",
   "metadata": {
    "execution": {
     "iopub.execute_input": "2023-02-01T04:55:24.373697Z",
     "iopub.status.busy": "2023-02-01T04:55:24.372042Z",
     "iopub.status.idle": "2023-02-01T04:55:24.379415Z",
     "shell.execute_reply": "2023-02-01T04:55:24.378605Z"
    },
    "papermill": {
     "duration": 0.018408,
     "end_time": "2023-02-01T04:55:24.381409",
     "exception": false,
     "start_time": "2023-02-01T04:55:24.363001",
     "status": "completed"
    },
    "tags": []
   },
   "outputs": [],
   "source": [
    "early_stop = EarlyStopping(monitor=\"val_loss\",min_delta=0, patience=12,\n",
    "                           verbose=0,mode=\"min\", baseline=None, restore_best_weights=True)\n",
    "check = ModelCheckpoint(filepath='convnet.keras', save_best_only=True, monitor='val_loss')\n",
    "learning_rate_reduction = ReduceLROnPlateau(monitor='val_loss', \n",
    "                                            patience=3, \n",
    "                                            verbose=1, \n",
    "                                            factor=0.5, \n",
    "                                            min_lr=0.00001)"
   ]
  },
  {
   "cell_type": "code",
   "execution_count": 21,
   "id": "3be07ab2",
   "metadata": {
    "execution": {
     "iopub.execute_input": "2023-02-01T04:55:24.398393Z",
     "iopub.status.busy": "2023-02-01T04:55:24.397546Z",
     "iopub.status.idle": "2023-02-01T04:55:24.539389Z",
     "shell.execute_reply": "2023-02-01T04:55:24.538469Z"
    },
    "papermill": {
     "duration": 0.152542,
     "end_time": "2023-02-01T04:55:24.541552",
     "exception": false,
     "start_time": "2023-02-01T04:55:24.389010",
     "status": "completed"
    },
    "tags": []
   },
   "outputs": [],
   "source": [
    "model = Sequential()\n",
    "\n",
    "model.add(Conv2D(filters = 64, kernel_size = (3,3), padding = 'same', \n",
    "                 activation ='relu', input_shape = input_shape))\n",
    "model.add(BatchNormalization())\n",
    "model.add(Conv2D(filters = 64, kernel_size = (3,3),padding = 'same', \n",
    "                 activation ='relu'))\n",
    "model.add(BatchNormalization())\n",
    "model.add(MaxPooling2D(pool_size=(2,2)))\n",
    "model.add(Dropout(0.25))\n",
    "\n",
    "model.add(Conv2D(filters = 64, kernel_size = (3,3),padding = 'same', \n",
    "                 activation ='relu'))\n",
    "model.add(BatchNormalization())\n",
    "model.add(Conv2D(filters = 128, kernel_size = (3,3),padding = 'same', \n",
    "                 activation ='relu'))\n",
    "model.add(BatchNormalization())\n",
    "model.add(MaxPooling2D(pool_size=(2,2)))\n",
    "model.add(Dropout(0.25))\n",
    "\n",
    "model.add(Conv2D(filters = 128, kernel_size = (3,3),padding = 'same', \n",
    "                 activation ='relu'))\n",
    "model.add(MaxPooling2D(pool_size=(2,2)))\n",
    "\n",
    "model.add(Flatten())\n",
    "model.add(Dense(256, activation = \"relu\"))\n",
    "model.add(BatchNormalization())\n",
    "model.add(Dense(10, activation = \"softmax\"))"
   ]
  },
  {
   "cell_type": "code",
   "execution_count": 22,
   "id": "875f9f0e",
   "metadata": {
    "execution": {
     "iopub.execute_input": "2023-02-01T04:55:24.558602Z",
     "iopub.status.busy": "2023-02-01T04:55:24.558322Z",
     "iopub.status.idle": "2023-02-01T04:55:24.565810Z",
     "shell.execute_reply": "2023-02-01T04:55:24.564329Z"
    },
    "papermill": {
     "duration": 0.018301,
     "end_time": "2023-02-01T04:55:24.568024",
     "exception": false,
     "start_time": "2023-02-01T04:55:24.549723",
     "status": "completed"
    },
    "tags": []
   },
   "outputs": [
    {
     "name": "stderr",
     "output_type": "stream",
     "text": [
      "/opt/conda/lib/python3.7/site-packages/keras/optimizer_v2/optimizer_v2.py:356: UserWarning: The `lr` argument is deprecated, use `learning_rate` instead.\n",
      "  \"The `lr` argument is deprecated, use `learning_rate` instead.\")\n"
     ]
    }
   ],
   "source": [
    "optimizer = RMSprop(lr=0.0001, rho=0.9, epsilon=1e-08, decay=0.0)"
   ]
  },
  {
   "cell_type": "code",
   "execution_count": 23,
   "id": "9c068cd7",
   "metadata": {
    "execution": {
     "iopub.execute_input": "2023-02-01T04:55:24.584243Z",
     "iopub.status.busy": "2023-02-01T04:55:24.583972Z",
     "iopub.status.idle": "2023-02-01T04:55:24.595476Z",
     "shell.execute_reply": "2023-02-01T04:55:24.594673Z"
    },
    "papermill": {
     "duration": 0.021887,
     "end_time": "2023-02-01T04:55:24.597624",
     "exception": false,
     "start_time": "2023-02-01T04:55:24.575737",
     "status": "completed"
    },
    "tags": []
   },
   "outputs": [],
   "source": [
    "model.compile(loss=tf.keras.losses.categorical_crossentropy,\n",
    "              optimizer=optimizer,\n",
    "              metrics=['accuracy'])"
   ]
  },
  {
   "cell_type": "code",
   "execution_count": 24,
   "id": "38aa388f",
   "metadata": {
    "execution": {
     "iopub.execute_input": "2023-02-01T04:55:24.613381Z",
     "iopub.status.busy": "2023-02-01T04:55:24.613131Z",
     "iopub.status.idle": "2023-02-01T05:02:01.590266Z",
     "shell.execute_reply": "2023-02-01T05:02:01.589196Z"
    },
    "papermill": {
     "duration": 396.988015,
     "end_time": "2023-02-01T05:02:01.592889",
     "exception": false,
     "start_time": "2023-02-01T04:55:24.604874",
     "status": "completed"
    },
    "tags": []
   },
   "outputs": [
    {
     "name": "stderr",
     "output_type": "stream",
     "text": [
      "/opt/conda/lib/python3.7/site-packages/keras/engine/training.py:1972: UserWarning: `Model.fit_generator` is deprecated and will be removed in a future version. Please use `Model.fit`, which supports generators.\n",
      "  warnings.warn('`Model.fit_generator` is deprecated and '\n",
      "2023-02-01 04:55:24.735690: I tensorflow/compiler/mlir/mlir_graph_optimization_pass.cc:185] None of the MLIR Optimization Passes are enabled (registered 2)\n"
     ]
    },
    {
     "name": "stdout",
     "output_type": "stream",
     "text": [
      "Epoch 1/30\n"
     ]
    },
    {
     "name": "stderr",
     "output_type": "stream",
     "text": [
      "2023-02-01 04:55:27.738022: I tensorflow/stream_executor/cuda/cuda_dnn.cc:369] Loaded cuDNN version 8005\n"
     ]
    },
    {
     "name": "stdout",
     "output_type": "stream",
     "text": [
      "525/525 [==============================] - 24s 26ms/step - loss: 0.5457 - accuracy: 0.8256 - val_loss: 0.0918 - val_accuracy: 0.9717\n",
      "Epoch 2/30\n",
      "525/525 [==============================] - 12s 23ms/step - loss: 0.1287 - accuracy: 0.9605 - val_loss: 0.0566 - val_accuracy: 0.9826\n",
      "Epoch 3/30\n",
      "525/525 [==============================] - 12s 23ms/step - loss: 0.0850 - accuracy: 0.9744 - val_loss: 0.0394 - val_accuracy: 0.9879\n",
      "Epoch 4/30\n",
      "525/525 [==============================] - 13s 25ms/step - loss: 0.0673 - accuracy: 0.9789 - val_loss: 0.0305 - val_accuracy: 0.9901\n",
      "Epoch 5/30\n",
      "525/525 [==============================] - 12s 23ms/step - loss: 0.0569 - accuracy: 0.9825 - val_loss: 0.0365 - val_accuracy: 0.9877\n",
      "Epoch 6/30\n",
      "525/525 [==============================] - 13s 24ms/step - loss: 0.0507 - accuracy: 0.9849 - val_loss: 0.0273 - val_accuracy: 0.9918\n",
      "Epoch 7/30\n",
      "525/525 [==============================] - 12s 23ms/step - loss: 0.0464 - accuracy: 0.9857 - val_loss: 0.0264 - val_accuracy: 0.9911\n",
      "Epoch 8/30\n",
      "525/525 [==============================] - 12s 23ms/step - loss: 0.0419 - accuracy: 0.9867 - val_loss: 0.0236 - val_accuracy: 0.9919\n",
      "Epoch 9/30\n",
      "525/525 [==============================] - 12s 23ms/step - loss: 0.0382 - accuracy: 0.9876 - val_loss: 0.0287 - val_accuracy: 0.9906\n",
      "Epoch 10/30\n",
      "525/525 [==============================] - 12s 23ms/step - loss: 0.0343 - accuracy: 0.9891 - val_loss: 0.0210 - val_accuracy: 0.9927\n",
      "Epoch 11/30\n",
      "525/525 [==============================] - 13s 25ms/step - loss: 0.0358 - accuracy: 0.9890 - val_loss: 0.0191 - val_accuracy: 0.9940\n",
      "Epoch 12/30\n",
      "525/525 [==============================] - 12s 23ms/step - loss: 0.0328 - accuracy: 0.9900 - val_loss: 0.0195 - val_accuracy: 0.9931\n",
      "Epoch 13/30\n",
      "525/525 [==============================] - 13s 25ms/step - loss: 0.0304 - accuracy: 0.9909 - val_loss: 0.0199 - val_accuracy: 0.9936\n",
      "Epoch 14/30\n",
      "525/525 [==============================] - 12s 23ms/step - loss: 0.0281 - accuracy: 0.9914 - val_loss: 0.0188 - val_accuracy: 0.9937\n",
      "Epoch 15/30\n",
      "525/525 [==============================] - 12s 23ms/step - loss: 0.0289 - accuracy: 0.9910 - val_loss: 0.0200 - val_accuracy: 0.9937\n",
      "Epoch 16/30\n",
      "525/525 [==============================] - 13s 25ms/step - loss: 0.0261 - accuracy: 0.9919 - val_loss: 0.0188 - val_accuracy: 0.9933\n",
      "Epoch 17/30\n",
      "525/525 [==============================] - 12s 23ms/step - loss: 0.0249 - accuracy: 0.9920 - val_loss: 0.0167 - val_accuracy: 0.9943\n",
      "Epoch 18/30\n",
      "525/525 [==============================] - 13s 24ms/step - loss: 0.0254 - accuracy: 0.9924 - val_loss: 0.0141 - val_accuracy: 0.9957\n",
      "Epoch 19/30\n",
      "525/525 [==============================] - 12s 23ms/step - loss: 0.0233 - accuracy: 0.9930 - val_loss: 0.0176 - val_accuracy: 0.9944\n",
      "Epoch 20/30\n",
      "525/525 [==============================] - 12s 23ms/step - loss: 0.0226 - accuracy: 0.9929 - val_loss: 0.0157 - val_accuracy: 0.9950\n",
      "Epoch 21/30\n",
      "525/525 [==============================] - 13s 25ms/step - loss: 0.0223 - accuracy: 0.9939 - val_loss: 0.0153 - val_accuracy: 0.9948\n",
      "\n",
      "Epoch 00021: ReduceLROnPlateau reducing learning rate to 4.999999873689376e-05.\n",
      "Epoch 22/30\n",
      "525/525 [==============================] - 12s 23ms/step - loss: 0.0200 - accuracy: 0.9940 - val_loss: 0.0147 - val_accuracy: 0.9950\n",
      "Epoch 23/30\n",
      "525/525 [==============================] - 13s 25ms/step - loss: 0.0200 - accuracy: 0.9941 - val_loss: 0.0155 - val_accuracy: 0.9950\n",
      "Epoch 24/30\n",
      "525/525 [==============================] - 13s 24ms/step - loss: 0.0183 - accuracy: 0.9941 - val_loss: 0.0141 - val_accuracy: 0.9952\n",
      "\n",
      "Epoch 00024: ReduceLROnPlateau reducing learning rate to 2.499999936844688e-05.\n",
      "Epoch 25/30\n",
      "525/525 [==============================] - 12s 24ms/step - loss: 0.0171 - accuracy: 0.9949 - val_loss: 0.0142 - val_accuracy: 0.9948\n",
      "Epoch 26/30\n",
      "525/525 [==============================] - 13s 25ms/step - loss: 0.0164 - accuracy: 0.9950 - val_loss: 0.0134 - val_accuracy: 0.9952\n",
      "Epoch 27/30\n",
      "525/525 [==============================] - 12s 23ms/step - loss: 0.0170 - accuracy: 0.9951 - val_loss: 0.0134 - val_accuracy: 0.9954\n",
      "Epoch 28/30\n",
      "525/525 [==============================] - 14s 26ms/step - loss: 0.0156 - accuracy: 0.9952 - val_loss: 0.0136 - val_accuracy: 0.9958\n",
      "Epoch 29/30\n",
      "525/525 [==============================] - 12s 23ms/step - loss: 0.0168 - accuracy: 0.9950 - val_loss: 0.0151 - val_accuracy: 0.9951\n",
      "\n",
      "Epoch 00029: ReduceLROnPlateau reducing learning rate to 1.249999968422344e-05.\n",
      "Epoch 30/30\n",
      "525/525 [==============================] - 13s 24ms/step - loss: 0.0144 - accuracy: 0.9958 - val_loss: 0.0137 - val_accuracy: 0.9951\n"
     ]
    }
   ],
   "source": [
    "batch_size = 64\n",
    "num_epoch = 30\n",
    "model_log = model.fit_generator(datagen.flow(X_train, y_train, batch_size=batch_size),\n",
    "                      epochs=num_epoch,\n",
    "                      verbose=1,\n",
    "                      validation_data=(X_test, y_test),\n",
    "                      callbacks = [early_stop, check, learning_rate_reduction])"
   ]
  },
  {
   "cell_type": "code",
   "execution_count": 25,
   "id": "3fe9a592",
   "metadata": {
    "execution": {
     "iopub.execute_input": "2023-02-01T05:02:02.368699Z",
     "iopub.status.busy": "2023-02-01T05:02:02.368317Z",
     "iopub.status.idle": "2023-02-01T05:02:05.473541Z",
     "shell.execute_reply": "2023-02-01T05:02:05.472517Z"
    },
    "papermill": {
     "duration": 3.41269,
     "end_time": "2023-02-01T05:02:05.475948",
     "exception": false,
     "start_time": "2023-02-01T05:02:02.063258",
     "status": "completed"
    },
    "tags": []
   },
   "outputs": [
    {
     "data": {
      "text/plain": [
       "array([2, 0, 9, ..., 3, 9, 2])"
      ]
     },
     "execution_count": 25,
     "metadata": {},
     "output_type": "execute_result"
    }
   ],
   "source": [
    "test = np.resize(test_img, (test_img.shape[0], 28, 28, 1))\n",
    "pred = model.predict(test)\n",
    "classes = pred.argmax(axis=-1)\n",
    "classes"
   ]
  },
  {
   "cell_type": "code",
   "execution_count": 26,
   "id": "bd29eb9d",
   "metadata": {
    "execution": {
     "iopub.execute_input": "2023-02-01T05:02:06.083366Z",
     "iopub.status.busy": "2023-02-01T05:02:06.082507Z",
     "iopub.status.idle": "2023-02-01T05:02:06.126518Z",
     "shell.execute_reply": "2023-02-01T05:02:06.125577Z"
    },
    "papermill": {
     "duration": 0.355048,
     "end_time": "2023-02-01T05:02:06.128587",
     "exception": false,
     "start_time": "2023-02-01T05:02:05.773539",
     "status": "completed"
    },
    "tags": []
   },
   "outputs": [
    {
     "data": {
      "text/html": [
       "<div>\n",
       "<style scoped>\n",
       "    .dataframe tbody tr th:only-of-type {\n",
       "        vertical-align: middle;\n",
       "    }\n",
       "\n",
       "    .dataframe tbody tr th {\n",
       "        vertical-align: top;\n",
       "    }\n",
       "\n",
       "    .dataframe thead th {\n",
       "        text-align: right;\n",
       "    }\n",
       "</style>\n",
       "<table border=\"1\" class=\"dataframe\">\n",
       "  <thead>\n",
       "    <tr style=\"text-align: right;\">\n",
       "      <th></th>\n",
       "      <th>ImageId</th>\n",
       "      <th>Label</th>\n",
       "    </tr>\n",
       "  </thead>\n",
       "  <tbody>\n",
       "    <tr>\n",
       "      <th>0</th>\n",
       "      <td>1</td>\n",
       "      <td>2</td>\n",
       "    </tr>\n",
       "    <tr>\n",
       "      <th>1</th>\n",
       "      <td>2</td>\n",
       "      <td>0</td>\n",
       "    </tr>\n",
       "    <tr>\n",
       "      <th>2</th>\n",
       "      <td>3</td>\n",
       "      <td>9</td>\n",
       "    </tr>\n",
       "    <tr>\n",
       "      <th>3</th>\n",
       "      <td>4</td>\n",
       "      <td>0</td>\n",
       "    </tr>\n",
       "    <tr>\n",
       "      <th>4</th>\n",
       "      <td>5</td>\n",
       "      <td>3</td>\n",
       "    </tr>\n",
       "  </tbody>\n",
       "</table>\n",
       "</div>"
      ],
      "text/plain": [
       "   ImageId  Label\n",
       "0        1      2\n",
       "1        2      0\n",
       "2        3      9\n",
       "3        4      0\n",
       "4        5      3"
      ]
     },
     "execution_count": 26,
     "metadata": {},
     "output_type": "execute_result"
    }
   ],
   "source": [
    "sub = pd.read_csv('../input/digit-recognizer/sample_submission.csv')\n",
    "sub.Label = classes\n",
    "sub.head()"
   ]
  },
  {
   "cell_type": "code",
   "execution_count": 27,
   "id": "796e7b4e",
   "metadata": {
    "execution": {
     "iopub.execute_input": "2023-02-01T05:02:06.776742Z",
     "iopub.status.busy": "2023-02-01T05:02:06.775770Z",
     "iopub.status.idle": "2023-02-01T05:02:06.814666Z",
     "shell.execute_reply": "2023-02-01T05:02:06.813676Z"
    },
    "papermill": {
     "duration": 0.338987,
     "end_time": "2023-02-01T05:02:06.816831",
     "exception": false,
     "start_time": "2023-02-01T05:02:06.477844",
     "status": "completed"
    },
    "tags": []
   },
   "outputs": [],
   "source": [
    "sub.to_csv('submission.csv', index = False)"
   ]
  },
  {
   "cell_type": "code",
   "execution_count": null,
   "id": "5d0608a4",
   "metadata": {
    "papermill": {
     "duration": 0.302321,
     "end_time": "2023-02-01T05:02:07.421307",
     "exception": false,
     "start_time": "2023-02-01T05:02:07.118986",
     "status": "completed"
    },
    "tags": []
   },
   "outputs": [],
   "source": []
  }
 ],
 "metadata": {
  "kernelspec": {
   "display_name": "Python 3",
   "language": "python",
   "name": "python3"
  },
  "language_info": {
   "codemirror_mode": {
    "name": "ipython",
    "version": 3
   },
   "file_extension": ".py",
   "mimetype": "text/x-python",
   "name": "python",
   "nbconvert_exporter": "python",
   "pygments_lexer": "ipython3",
   "version": "3.7.12"
  },
  "papermill": {
   "default_parameters": {},
   "duration": 458.650294,
   "end_time": "2023-02-01T05:02:11.440318",
   "environment_variables": {},
   "exception": null,
   "input_path": "__notebook__.ipynb",
   "output_path": "__notebook__.ipynb",
   "parameters": {},
   "start_time": "2023-02-01T04:54:32.790024",
   "version": "2.3.4"
  }
 },
 "nbformat": 4,
 "nbformat_minor": 5
}
