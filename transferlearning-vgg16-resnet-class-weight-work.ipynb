{
 "cells": [
  {
   "cell_type": "code",
   "execution_count": 1,
   "id": "d4c0a19a",
   "metadata": {
    "execution": {
     "iopub.execute_input": "2023-02-19T16:46:37.332625Z",
     "iopub.status.busy": "2023-02-19T16:46:37.332092Z",
     "iopub.status.idle": "2023-02-19T16:46:45.386020Z",
     "shell.execute_reply": "2023-02-19T16:46:45.384968Z"
    },
    "papermill": {
     "duration": 8.069443,
     "end_time": "2023-02-19T16:46:45.388891",
     "exception": false,
     "start_time": "2023-02-19T16:46:37.319448",
     "status": "completed"
    },
    "tags": []
   },
   "outputs": [],
   "source": [
    "import numpy as np \n",
    "import pandas as pd \n",
    "import tensorflow as tf\n",
    "import keras\n",
    "from tensorflow.keras.optimizers import Adam, SGD\n",
    "from keras.utils.np_utils import to_categorical\n",
    "from keras.models import Sequential\n",
    "from keras.layers import (Conv2D, MaxPooling2D, Flatten, Dense, \n",
    "                          Dropout, Rescaling, RandomFlip, RandomRotation, BatchNormalization)\n",
    "from tensorflow.keras.callbacks import EarlyStopping, ModelCheckpoint, ReduceLROnPlateau\n",
    "\n",
    "from sklearn.model_selection import train_test_split\n",
    "from sklearn.preprocessing import StandardScaler\n",
    "from sklearn.metrics import accuracy_score, classification_report\n",
    "from tensorflow import keras\n",
    "from tensorflow.keras.preprocessing import image_dataset_from_directory\n",
    "\n",
    "import seaborn as sns\n",
    "import matplotlib.pyplot as plt\n",
    "%matplotlib inline \n",
    "\n",
    "import cv2\n",
    "import zipfile\n",
    "import os\n",
    "import glob\n",
    "import shutil"
   ]
  },
  {
   "cell_type": "markdown",
   "id": "46368ce1",
   "metadata": {
    "papermill": {
     "duration": 0.008997,
     "end_time": "2023-02-19T16:46:45.408180",
     "exception": false,
     "start_time": "2023-02-19T16:46:45.399183",
     "status": "completed"
    },
    "tags": []
   },
   "source": [
    "## Unzip train files"
   ]
  },
  {
   "cell_type": "code",
   "execution_count": 2,
   "id": "9d113d21",
   "metadata": {
    "execution": {
     "iopub.execute_input": "2023-02-19T16:46:45.429335Z",
     "iopub.status.busy": "2023-02-19T16:46:45.427630Z",
     "iopub.status.idle": "2023-02-19T16:47:00.277084Z",
     "shell.execute_reply": "2023-02-19T16:47:00.276088Z"
    },
    "papermill": {
     "duration": 14.862096,
     "end_time": "2023-02-19T16:47:00.279574",
     "exception": false,
     "start_time": "2023-02-19T16:46:45.417478",
     "status": "completed"
    },
    "tags": []
   },
   "outputs": [],
   "source": [
    "with zipfile.ZipFile('/kaggle/input/the-nature-conservancy-fisheries-monitoring/train.zip', 'r') as train_zip:\n",
    "    train_zip.extractall('')\n",
    "\n",
    "base_dir = '/kaggle/working'\n",
    "train_dir = os.path.join(base_dir, 'train')"
   ]
  },
  {
   "cell_type": "code",
   "execution_count": 3,
   "id": "d67169a3",
   "metadata": {
    "execution": {
     "iopub.execute_input": "2023-02-19T16:47:00.300179Z",
     "iopub.status.busy": "2023-02-19T16:47:00.299829Z",
     "iopub.status.idle": "2023-02-19T16:47:00.308767Z",
     "shell.execute_reply": "2023-02-19T16:47:00.307699Z"
    },
    "papermill": {
     "duration": 0.022591,
     "end_time": "2023-02-19T16:47:00.311993",
     "exception": false,
     "start_time": "2023-02-19T16:47:00.289402",
     "status": "completed"
    },
    "tags": []
   },
   "outputs": [
    {
     "data": {
      "text/plain": [
       "['NoF', 'LAG', 'OTHER', 'SHARK', 'YFT', '.DS_Store', 'ALB', 'DOL', 'BET']"
      ]
     },
     "execution_count": 3,
     "metadata": {},
     "output_type": "execute_result"
    }
   ],
   "source": [
    "train_dir = '/kaggle/working/train'\n",
    "fishes = os.listdir(train_dir)\n",
    "fishes"
   ]
  },
  {
   "cell_type": "code",
   "execution_count": 4,
   "id": "8a06877d",
   "metadata": {
    "execution": {
     "iopub.execute_input": "2023-02-19T16:47:00.332715Z",
     "iopub.status.busy": "2023-02-19T16:47:00.332407Z",
     "iopub.status.idle": "2023-02-19T16:47:00.338192Z",
     "shell.execute_reply": "2023-02-19T16:47:00.337333Z"
    },
    "papermill": {
     "duration": 0.018458,
     "end_time": "2023-02-19T16:47:00.340215",
     "exception": false,
     "start_time": "2023-02-19T16:47:00.321757",
     "status": "completed"
    },
    "tags": []
   },
   "outputs": [],
   "source": [
    "del fishes[4]"
   ]
  },
  {
   "cell_type": "markdown",
   "id": "92d6130a",
   "metadata": {
    "papermill": {
     "duration": 0.009427,
     "end_time": "2023-02-19T16:47:00.359734",
     "exception": false,
     "start_time": "2023-02-19T16:47:00.350307",
     "status": "completed"
    },
    "tags": []
   },
   "source": [
    "## Check disbalanse classes"
   ]
  },
  {
   "cell_type": "code",
   "execution_count": 5,
   "id": "3d38eea9",
   "metadata": {
    "execution": {
     "iopub.execute_input": "2023-02-19T16:47:00.381160Z",
     "iopub.status.busy": "2023-02-19T16:47:00.380459Z",
     "iopub.status.idle": "2023-02-19T16:47:00.806250Z",
     "shell.execute_reply": "2023-02-19T16:47:00.803420Z"
    },
    "papermill": {
     "duration": 0.438655,
     "end_time": "2023-02-19T16:47:00.807804",
     "exception": true,
     "start_time": "2023-02-19T16:47:00.369149",
     "status": "failed"
    },
    "tags": []
   },
   "outputs": [
    {
     "name": "stdout",
     "output_type": "stream",
     "text": [
      "NoF: 465\n",
      "LAG: 67\n",
      "OTHER: 299\n",
      "SHARK: 176\n"
     ]
    },
    {
     "ename": "NotADirectoryError",
     "evalue": "[Errno 20] Not a directory: '/kaggle/working/train/.DS_Store'",
     "output_type": "error",
     "traceback": [
      "\u001b[0;31m---------------------------------------------------------------------------\u001b[0m",
      "\u001b[0;31mNotADirectoryError\u001b[0m                        Traceback (most recent call last)",
      "\u001b[0;32m/tmp/ipykernel_25/3698565531.py\u001b[0m in \u001b[0;36m<module>\u001b[0;34m\u001b[0m\n\u001b[1;32m      1\u001b[0m \u001b[0mdict_\u001b[0m \u001b[0;34m=\u001b[0m \u001b[0;34m{\u001b[0m\u001b[0;34m}\u001b[0m\u001b[0;34m\u001b[0m\u001b[0;34m\u001b[0m\u001b[0m\n\u001b[1;32m      2\u001b[0m \u001b[0;32mfor\u001b[0m \u001b[0mi\u001b[0m \u001b[0;32min\u001b[0m \u001b[0mfishes\u001b[0m\u001b[0;34m:\u001b[0m\u001b[0;34m\u001b[0m\u001b[0;34m\u001b[0m\u001b[0m\n\u001b[0;32m----> 3\u001b[0;31m     \u001b[0mprint\u001b[0m\u001b[0;34m(\u001b[0m\u001b[0mi\u001b[0m\u001b[0;34m,\u001b[0m \u001b[0;34m': '\u001b[0m\u001b[0;34m,\u001b[0m \u001b[0mlen\u001b[0m\u001b[0;34m(\u001b[0m\u001b[0mos\u001b[0m\u001b[0;34m.\u001b[0m\u001b[0mlistdir\u001b[0m\u001b[0;34m(\u001b[0m\u001b[0mtrain_dir\u001b[0m \u001b[0;34m+\u001b[0m \u001b[0;34m'/'\u001b[0m \u001b[0;34m+\u001b[0m \u001b[0mi\u001b[0m\u001b[0;34m)\u001b[0m\u001b[0;34m)\u001b[0m\u001b[0;34m,\u001b[0m \u001b[0msep\u001b[0m\u001b[0;34m=\u001b[0m\u001b[0;34m''\u001b[0m\u001b[0;34m)\u001b[0m\u001b[0;34m\u001b[0m\u001b[0;34m\u001b[0m\u001b[0m\n\u001b[0m\u001b[1;32m      4\u001b[0m     \u001b[0mdict_\u001b[0m\u001b[0;34m[\u001b[0m\u001b[0mi\u001b[0m\u001b[0;34m]\u001b[0m \u001b[0;34m=\u001b[0m \u001b[0mlen\u001b[0m\u001b[0;34m(\u001b[0m\u001b[0mos\u001b[0m\u001b[0;34m.\u001b[0m\u001b[0mlistdir\u001b[0m\u001b[0;34m(\u001b[0m\u001b[0mtrain_dir\u001b[0m \u001b[0;34m+\u001b[0m \u001b[0;34m'/'\u001b[0m \u001b[0;34m+\u001b[0m \u001b[0mi\u001b[0m\u001b[0;34m)\u001b[0m\u001b[0;34m)\u001b[0m\u001b[0;34m\u001b[0m\u001b[0;34m\u001b[0m\u001b[0m\n",
      "\u001b[0;31mNotADirectoryError\u001b[0m: [Errno 20] Not a directory: '/kaggle/working/train/.DS_Store'"
     ]
    }
   ],
   "source": [
    "dict_ = {}\n",
    "for i in fishes:\n",
    "    print(i, ': ', len(os.listdir(train_dir + '/' + i)), sep='')\n",
    "    dict_[i] = len(os.listdir(train_dir + '/' + i))"
   ]
  },
  {
   "cell_type": "code",
   "execution_count": null,
   "id": "cc677e1b",
   "metadata": {
    "execution": {
     "iopub.execute_input": "2023-02-19T13:54:06.476709Z",
     "iopub.status.busy": "2023-02-19T13:54:06.475582Z",
     "iopub.status.idle": "2023-02-19T13:54:06.854205Z",
     "shell.execute_reply": "2023-02-19T13:54:06.853258Z",
     "shell.execute_reply.started": "2023-02-19T13:54:06.476655Z"
    },
    "papermill": {
     "duration": null,
     "end_time": null,
     "exception": null,
     "start_time": null,
     "status": "pending"
    },
    "tags": []
   },
   "outputs": [],
   "source": [
    "plt.figure(figsize=(12,4))\n",
    "sns.barplot(x=list(dict_.keys()), y=list(dict_.values()), alpha=0.8)\n",
    "plt.xlabel('Fish', fontsize=12)\n",
    "plt.ylabel('Number of Images', fontsize=12)\n",
    "plt.show()"
   ]
  },
  {
   "cell_type": "markdown",
   "id": "91a963bb",
   "metadata": {
    "papermill": {
     "duration": null,
     "end_time": null,
     "exception": null,
     "start_time": null,
     "status": "pending"
    },
    "tags": []
   },
   "source": [
    "## Let’s visualize few data from trainingshutil.rmtree('/kaggle/working/train/')"
   ]
  },
  {
   "cell_type": "code",
   "execution_count": null,
   "id": "606999dc",
   "metadata": {
    "execution": {
     "iopub.execute_input": "2023-02-19T06:42:56.596755Z",
     "iopub.status.busy": "2023-02-19T06:42:56.595813Z",
     "iopub.status.idle": "2023-02-19T06:42:56.603932Z",
     "shell.execute_reply": "2023-02-19T06:42:56.602831Z",
     "shell.execute_reply.started": "2023-02-19T06:42:56.596696Z"
    },
    "papermill": {
     "duration": null,
     "end_time": null,
     "exception": null,
     "start_time": null,
     "status": "pending"
    },
    "tags": []
   },
   "outputs": [],
   "source": [
    "def drow_fish(fish):\n",
    "    fig = plt.figure(figsize=(16, 8))\n",
    "    train_dir = f'/kaggle/working/train/{fish}'\n",
    "    train_list = glob.glob(os.path.join(train_dir,'*.jpg'))\n",
    "    for i, path in enumerate(train_list[:5], 1):\n",
    "        subplot = fig.add_subplot(2, 5, i)\n",
    "        subplot.set_title('%s' %path.split('/')[-2])\n",
    "        img = cv2.imread(path)[...,::-1]\n",
    "        img = cv2.resize(img, (224,224))\n",
    "        plt.imshow(img)"
   ]
  },
  {
   "cell_type": "code",
   "execution_count": null,
   "id": "1f2f883f",
   "metadata": {
    "execution": {
     "iopub.execute_input": "2023-02-19T06:43:03.326340Z",
     "iopub.status.busy": "2023-02-19T06:43:03.325265Z",
     "iopub.status.idle": "2023-02-19T06:43:10.838188Z",
     "shell.execute_reply": "2023-02-19T06:43:10.837150Z",
     "shell.execute_reply.started": "2023-02-19T06:43:03.326292Z"
    },
    "papermill": {
     "duration": null,
     "end_time": null,
     "exception": null,
     "start_time": null,
     "status": "pending"
    },
    "tags": []
   },
   "outputs": [],
   "source": [
    "for i in fishes:\n",
    "    drow_fish(i)"
   ]
  },
  {
   "cell_type": "markdown",
   "id": "7ee42e78",
   "metadata": {
    "papermill": {
     "duration": null,
     "end_time": null,
     "exception": null,
     "start_time": null,
     "status": "pending"
    },
    "tags": []
   },
   "source": [
    "## Prepare directory of training images"
   ]
  },
  {
   "cell_type": "code",
   "execution_count": null,
   "id": "f9e0df35",
   "metadata": {
    "execution": {
     "iopub.execute_input": "2023-02-19T13:54:12.871114Z",
     "iopub.status.busy": "2023-02-19T13:54:12.870334Z",
     "iopub.status.idle": "2023-02-19T13:54:12.880866Z",
     "shell.execute_reply": "2023-02-19T13:54:12.879712Z",
     "shell.execute_reply.started": "2023-02-19T13:54:12.871060Z"
    },
    "papermill": {
     "duration": null,
     "end_time": null,
     "exception": null,
     "start_time": null,
     "status": "pending"
    },
    "tags": []
   },
   "outputs": [],
   "source": [
    "shutil.rmtree('/kaggle/working/__MACOSX')\n",
    "os.makedirs('/kaggle/working/images')\n",
    "shutil.move('/kaggle/working/train/DOL', '/kaggle/working/images/')\n",
    "shutil.move('/kaggle/working/train/LAG', '/kaggle/working/images/')\n",
    "shutil.move('/kaggle/working/train/NoF', '/kaggle/working/images/')\n",
    "shutil.move('/kaggle/working/train/SHARK', '/kaggle/working/images/')\n",
    "shutil.move('/kaggle/working/train/YFT', '/kaggle/working/images/')\n",
    "shutil.move('/kaggle/working/train/OTHER', '/kaggle/working/images/')\n",
    "shutil.move('/kaggle/working/train/BET', '/kaggle/working/images/')\n",
    "shutil.move('/kaggle/working/train/ALB', '/kaggle/working/images/')\n",
    "shutil.rmtree('/kaggle/working/train')"
   ]
  },
  {
   "cell_type": "code",
   "execution_count": null,
   "id": "2a216b09",
   "metadata": {
    "execution": {
     "iopub.execute_input": "2023-02-19T13:54:13.688272Z",
     "iopub.status.busy": "2023-02-19T13:54:13.687913Z",
     "iopub.status.idle": "2023-02-19T13:54:13.693988Z",
     "shell.execute_reply": "2023-02-19T13:54:13.692760Z",
     "shell.execute_reply.started": "2023-02-19T13:54:13.688243Z"
    },
    "papermill": {
     "duration": null,
     "end_time": null,
     "exception": null,
     "start_time": null,
     "status": "pending"
    },
    "tags": []
   },
   "outputs": [],
   "source": [
    "img_height, img_width = 500, 500\n",
    "batch_size = 5"
   ]
  },
  {
   "cell_type": "code",
   "execution_count": null,
   "id": "94b69196",
   "metadata": {
    "execution": {
     "iopub.execute_input": "2023-02-19T13:54:15.605170Z",
     "iopub.status.busy": "2023-02-19T13:54:15.604815Z",
     "iopub.status.idle": "2023-02-19T13:54:19.489789Z",
     "shell.execute_reply": "2023-02-19T13:54:19.488385Z",
     "shell.execute_reply.started": "2023-02-19T13:54:15.605140Z"
    },
    "papermill": {
     "duration": null,
     "end_time": null,
     "exception": null,
     "start_time": null,
     "status": "pending"
    },
    "tags": []
   },
   "outputs": [],
   "source": [
    "train_ds = tf.keras.preprocessing.image_dataset_from_directory(\n",
    "  '/kaggle/working/images/',\n",
    "  validation_split=0.2,\n",
    "  subset=\"training\",\n",
    "  seed=42,\n",
    "  image_size=(img_height, img_width),\n",
    "  batch_size=batch_size,\n",
    "  shuffle=True,\n",
    "  label_mode='categorical')\n",
    "\n",
    "\n",
    "val_ds = tf.keras.preprocessing.image_dataset_from_directory(\n",
    "  '/kaggle/working/images/',\n",
    "  validation_split=0.2,\n",
    "  subset=\"validation\",\n",
    "  seed=42,\n",
    "  image_size=(img_height, img_width),\n",
    "  batch_size=batch_size,\n",
    "  shuffle=True,\n",
    "  label_mode='categorical')"
   ]
  },
  {
   "cell_type": "code",
   "execution_count": null,
   "id": "68da4b9b",
   "metadata": {
    "execution": {
     "iopub.execute_input": "2023-02-19T13:54:19.492426Z",
     "iopub.status.busy": "2023-02-19T13:54:19.491749Z",
     "iopub.status.idle": "2023-02-19T13:54:19.499789Z",
     "shell.execute_reply": "2023-02-19T13:54:19.498596Z",
     "shell.execute_reply.started": "2023-02-19T13:54:19.492385Z"
    },
    "papermill": {
     "duration": null,
     "end_time": null,
     "exception": null,
     "start_time": null,
     "status": "pending"
    },
    "tags": []
   },
   "outputs": [],
   "source": [
    "train_ds.class_names"
   ]
  },
  {
   "cell_type": "code",
   "execution_count": null,
   "id": "79763a4b",
   "metadata": {
    "execution": {
     "iopub.execute_input": "2023-02-19T13:54:20.266304Z",
     "iopub.status.busy": "2023-02-19T13:54:20.265602Z",
     "iopub.status.idle": "2023-02-19T13:54:20.313002Z",
     "shell.execute_reply": "2023-02-19T13:54:20.312035Z",
     "shell.execute_reply.started": "2023-02-19T13:54:20.266268Z"
    },
    "papermill": {
     "duration": null,
     "end_time": null,
     "exception": null,
     "start_time": null,
     "status": "pending"
    },
    "tags": []
   },
   "outputs": [],
   "source": [
    "rescale = Sequential([\n",
    "  Rescaling(1./255)\n",
    "])\n",
    "\n",
    "data_augmentation = Sequential([\n",
    "  RandomFlip(\"horizontal_and_vertical\"),\n",
    "  RandomRotation(0.2),\n",
    "])"
   ]
  },
  {
   "cell_type": "code",
   "execution_count": null,
   "id": "0e21396e",
   "metadata": {
    "execution": {
     "iopub.execute_input": "2023-02-19T13:54:20.630837Z",
     "iopub.status.busy": "2023-02-19T13:54:20.630090Z",
     "iopub.status.idle": "2023-02-19T13:54:20.942130Z",
     "shell.execute_reply": "2023-02-19T13:54:20.941068Z",
     "shell.execute_reply.started": "2023-02-19T13:54:20.630784Z"
    },
    "papermill": {
     "duration": null,
     "end_time": null,
     "exception": null,
     "start_time": null,
     "status": "pending"
    },
    "tags": []
   },
   "outputs": [],
   "source": [
    "aug_ds = train_ds.map(\n",
    "  lambda x, y: (data_augmentation(x, training=True), y))"
   ]
  },
  {
   "cell_type": "markdown",
   "id": "5c252cef",
   "metadata": {
    "papermill": {
     "duration": null,
     "end_time": null,
     "exception": null,
     "start_time": null,
     "status": "pending"
    },
    "tags": []
   },
   "source": [
    "## ResNet50 - first base model"
   ]
  },
  {
   "cell_type": "code",
   "execution_count": null,
   "id": "c0ad33e4",
   "metadata": {
    "execution": {
     "iopub.execute_input": "2023-02-19T13:54:22.266389Z",
     "iopub.status.busy": "2023-02-19T13:54:22.265652Z",
     "iopub.status.idle": "2023-02-19T13:54:24.776560Z",
     "shell.execute_reply": "2023-02-19T13:54:24.775466Z",
     "shell.execute_reply.started": "2023-02-19T13:54:22.266348Z"
    },
    "papermill": {
     "duration": null,
     "end_time": null,
     "exception": null,
     "start_time": null,
     "status": "pending"
    },
    "tags": []
   },
   "outputs": [],
   "source": [
    "base_model= tf.keras.applications.ResNet50(include_top=False,\n",
    "                   input_shape=(img_height, img_width, 3),\n",
    "                   pooling='max',\n",
    "                   weights='imagenet', classes=8)\n",
    "for layer in base_model.layers:\n",
    "        layer.trainable=False"
   ]
  },
  {
   "cell_type": "markdown",
   "id": "ec22ff3f",
   "metadata": {
    "papermill": {
     "duration": null,
     "end_time": null,
     "exception": null,
     "start_time": null,
     "status": "pending"
    },
    "tags": []
   },
   "source": [
    "## VGG16 - second base model"
   ]
  },
  {
   "cell_type": "code",
   "execution_count": null,
   "id": "ca342dd8",
   "metadata": {
    "execution": {
     "iopub.execute_input": "2023-02-19T13:54:24.778819Z",
     "iopub.status.busy": "2023-02-19T13:54:24.778422Z",
     "iopub.status.idle": "2023-02-19T13:54:25.466773Z",
     "shell.execute_reply": "2023-02-19T13:54:25.465617Z",
     "shell.execute_reply.started": "2023-02-19T13:54:24.778781Z"
    },
    "papermill": {
     "duration": null,
     "end_time": null,
     "exception": null,
     "start_time": null,
     "status": "pending"
    },
    "tags": []
   },
   "outputs": [],
   "source": [
    "base_model_2 = tf.keras.applications.VGG16(include_top=False,\n",
    "                   input_shape=(img_height, img_width, 3),\n",
    "                   pooling='max',\n",
    "                   weights='imagenet', classes=8)\n",
    "for layer in base_model_2.layers:\n",
    "        layer.trainable=False"
   ]
  },
  {
   "cell_type": "markdown",
   "id": "0530e2e1",
   "metadata": {
    "papermill": {
     "duration": null,
     "end_time": null,
     "exception": null,
     "start_time": null,
     "status": "pending"
    },
    "tags": []
   },
   "source": [
    "## Checkpoints"
   ]
  },
  {
   "cell_type": "code",
   "execution_count": null,
   "id": "55b45027",
   "metadata": {
    "execution": {
     "iopub.execute_input": "2023-02-19T13:54:27.169520Z",
     "iopub.status.busy": "2023-02-19T13:54:27.169161Z",
     "iopub.status.idle": "2023-02-19T13:54:27.175774Z",
     "shell.execute_reply": "2023-02-19T13:54:27.174684Z",
     "shell.execute_reply.started": "2023-02-19T13:54:27.169489Z"
    },
    "papermill": {
     "duration": null,
     "end_time": null,
     "exception": null,
     "start_time": null,
     "status": "pending"
    },
    "tags": []
   },
   "outputs": [],
   "source": [
    "early_stop = EarlyStopping(monitor=\"precision\",min_delta=0, patience=5,\n",
    "                           verbose=0, mode=\"min\", baseline=None, restore_best_weights=True)\n",
    "check = ModelCheckpoint(filepath='convnet.keras', save_best_only=True, monitor='precision')\n",
    "learning_rate_reduction = ReduceLROnPlateau(monitor='precision', \n",
    "                                            patience=3, \n",
    "                                            verbose=1, \n",
    "                                            factor=0.5, \n",
    "                                            min_lr=0.00001)"
   ]
  },
  {
   "cell_type": "markdown",
   "id": "a03934cf",
   "metadata": {
    "papermill": {
     "duration": null,
     "end_time": null,
     "exception": null,
     "start_time": null,
     "status": "pending"
    },
    "tags": []
   },
   "source": [
    "## Build model on Resnet"
   ]
  },
  {
   "cell_type": "code",
   "execution_count": null,
   "id": "fc7ad075",
   "metadata": {
    "execution": {
     "iopub.execute_input": "2023-02-19T13:54:28.310681Z",
     "iopub.status.busy": "2023-02-19T13:54:28.310337Z",
     "iopub.status.idle": "2023-02-19T13:54:28.829105Z",
     "shell.execute_reply": "2023-02-19T13:54:28.828139Z",
     "shell.execute_reply.started": "2023-02-19T13:54:28.310649Z"
    },
    "papermill": {
     "duration": null,
     "end_time": null,
     "exception": null,
     "start_time": null,
     "status": "pending"
    },
    "tags": []
   },
   "outputs": [],
   "source": [
    "model_1 = Sequential()\n",
    "model_1.add(base_model)\n",
    "model_1.add(Flatten())\n",
    "model_1.add(Dense(256, activation='relu'))\n",
    "model_1.add(Dropout(0.5))\n",
    "model_1.add(Dense(8, activation='softmax'))\n",
    "\n",
    "model_1.summary()"
   ]
  },
  {
   "cell_type": "markdown",
   "id": "2d4f9ed2",
   "metadata": {
    "papermill": {
     "duration": null,
     "end_time": null,
     "exception": null,
     "start_time": null,
     "status": "pending"
    },
    "tags": []
   },
   "source": [
    "## Metrics"
   ]
  },
  {
   "cell_type": "code",
   "execution_count": null,
   "id": "f25c578b",
   "metadata": {
    "execution": {
     "iopub.execute_input": "2023-02-19T13:54:30.143444Z",
     "iopub.status.busy": "2023-02-19T13:54:30.143042Z",
     "iopub.status.idle": "2023-02-19T13:54:30.191763Z",
     "shell.execute_reply": "2023-02-19T13:54:30.190833Z",
     "shell.execute_reply.started": "2023-02-19T13:54:30.143407Z"
    },
    "papermill": {
     "duration": null,
     "end_time": null,
     "exception": null,
     "start_time": null,
     "status": "pending"
    },
    "tags": []
   },
   "outputs": [],
   "source": [
    "metrics = [\n",
    "    tf.keras.metrics.FalseNegatives(name=\"fn\"),\n",
    "    tf.keras.metrics.FalsePositives(name=\"fp\"),\n",
    "    tf.keras.metrics.TrueNegatives(name=\"tn\"),\n",
    "    tf.keras.metrics.TruePositives(name=\"tp\"),\n",
    "    tf.keras.metrics.Precision(name=\"precision\"),\n",
    "    tf.keras.metrics.Recall(name=\"recall\"),\n",
    "]\n",
    "\n",
    "model_1.compile(loss=tf.keras.losses.categorical_crossentropy,\n",
    "                optimizer=SGD(learning_rate=1e-3, decay=1e-6, momentum=0.9, nesterov=True),\n",
    "                metrics=metrics)"
   ]
  },
  {
   "cell_type": "markdown",
   "id": "4f8cf2d2",
   "metadata": {
    "papermill": {
     "duration": null,
     "end_time": null,
     "exception": null,
     "start_time": null,
     "status": "pending"
    },
    "tags": []
   },
   "source": [
    "## Classes weights"
   ]
  },
  {
   "cell_type": "code",
   "execution_count": null,
   "id": "da9cfbb2",
   "metadata": {
    "execution": {
     "iopub.execute_input": "2023-02-19T13:54:31.225216Z",
     "iopub.status.busy": "2023-02-19T13:54:31.224853Z",
     "iopub.status.idle": "2023-02-19T13:54:31.232350Z",
     "shell.execute_reply": "2023-02-19T13:54:31.231200Z",
     "shell.execute_reply.started": "2023-02-19T13:54:31.225185Z"
    },
    "papermill": {
     "duration": null,
     "end_time": null,
     "exception": null,
     "start_time": null,
     "status": "pending"
    },
    "tags": []
   },
   "outputs": [],
   "source": [
    "weight_alb = 1. / dict_['ALB']\n",
    "weight_bet = 1. / dict_['BET']\n",
    "weight_dol = 1. / dict_['DOL']\n",
    "weight_lag = 1. / dict_['LAG']\n",
    "weight_nof = 1. / dict_['NoF']\n",
    "weight_other = 1. / dict_['OTHER']\n",
    "weight_shark = 1. / dict_['SHARK']\n",
    "weight_yft = 1. / dict_['YFT']\n",
    "\n",
    "class_weight = {0: weight_alb, \n",
    "                1: weight_bet,\n",
    "                2: weight_dol, \n",
    "                3: weight_lag,\n",
    "                4: weight_nof, \n",
    "                5: weight_other,\n",
    "                6: weight_shark, \n",
    "                7: weight_yft}"
   ]
  },
  {
   "cell_type": "code",
   "execution_count": null,
   "id": "594e7489",
   "metadata": {
    "execution": {
     "iopub.execute_input": "2023-02-19T13:54:32.710306Z",
     "iopub.status.busy": "2023-02-19T13:54:32.709457Z",
     "iopub.status.idle": "2023-02-19T14:12:10.478505Z",
     "shell.execute_reply": "2023-02-19T14:12:10.477574Z",
     "shell.execute_reply.started": "2023-02-19T13:54:32.710256Z"
    },
    "papermill": {
     "duration": null,
     "end_time": null,
     "exception": null,
     "start_time": null,
     "status": "pending"
    },
    "tags": []
   },
   "outputs": [],
   "source": [
    "model_1.fit(\n",
    "    aug_ds,\n",
    "    epochs=10,\n",
    "    verbose=1,\n",
    "    callbacks=[early_stop, check, learning_rate_reduction],\n",
    "    validation_data=val_ds,\n",
    "    class_weight=class_weight,\n",
    ")"
   ]
  },
  {
   "cell_type": "markdown",
   "id": "968f7fe4",
   "metadata": {
    "papermill": {
     "duration": null,
     "end_time": null,
     "exception": null,
     "start_time": null,
     "status": "pending"
    },
    "tags": []
   },
   "source": [
    "## Build model on VGG"
   ]
  },
  {
   "cell_type": "code",
   "execution_count": null,
   "id": "3de82ed5",
   "metadata": {
    "execution": {
     "iopub.execute_input": "2023-02-19T14:12:10.482180Z",
     "iopub.status.busy": "2023-02-19T14:12:10.480417Z",
     "iopub.status.idle": "2023-02-19T14:19:15.443356Z",
     "shell.execute_reply": "2023-02-19T14:19:15.442434Z",
     "shell.execute_reply.started": "2023-02-19T14:12:10.482138Z"
    },
    "papermill": {
     "duration": null,
     "end_time": null,
     "exception": null,
     "start_time": null,
     "status": "pending"
    },
    "tags": []
   },
   "outputs": [],
   "source": [
    "model_2 = Sequential()\n",
    "model_2.add(base_model)\n",
    "model_2.add(Flatten())\n",
    "model_2.add(Dense(256, activation='relu'))\n",
    "model_2.add(Dropout(0.5))\n",
    "model_2.add(Dense(8, activation='softmax'))\n",
    "\n",
    "model_2.summary()\n",
    "\n",
    "model_2.compile(loss=tf.keras.losses.categorical_crossentropy,\n",
    "                optimizer=SGD(learning_rate=1e-2, decay=1e-6, momentum=0.9, nesterov=True),\n",
    "                metrics=metrics)\n",
    "\n",
    "model_2.fit(\n",
    "    train_ds,\n",
    "    epochs=10,\n",
    "    verbose=1,\n",
    "    callbacks=[early_stop, check, learning_rate_reduction],\n",
    "    validation_data=val_ds,\n",
    "    class_weight=class_weight,\n",
    ")"
   ]
  },
  {
   "cell_type": "markdown",
   "id": "8ae8c078",
   "metadata": {
    "papermill": {
     "duration": null,
     "end_time": null,
     "exception": null,
     "start_time": null,
     "status": "pending"
    },
    "tags": []
   },
   "source": [
    "## Test directory"
   ]
  },
  {
   "cell_type": "code",
   "execution_count": null,
   "id": "77632881",
   "metadata": {
    "execution": {
     "iopub.execute_input": "2023-02-19T15:53:13.060268Z",
     "iopub.status.busy": "2023-02-19T15:53:13.059922Z",
     "iopub.status.idle": "2023-02-19T15:54:53.741322Z",
     "shell.execute_reply": "2023-02-19T15:54:53.740295Z",
     "shell.execute_reply.started": "2023-02-19T15:53:13.060240Z"
    },
    "papermill": {
     "duration": null,
     "end_time": null,
     "exception": null,
     "start_time": null,
     "status": "pending"
    },
    "tags": []
   },
   "outputs": [],
   "source": [
    "from py7zr import py7zr\n",
    "\n",
    "with py7zr.SevenZipFile('/kaggle/input/the-nature-conservancy-fisheries-monitoring/test_stg2.7z', mode='r') as z:\n",
    "    z.extractall('test')"
   ]
  },
  {
   "cell_type": "code",
   "execution_count": null,
   "id": "444337e0",
   "metadata": {
    "execution": {
     "iopub.execute_input": "2023-02-19T16:09:50.649308Z",
     "iopub.status.busy": "2023-02-19T16:09:50.648601Z",
     "iopub.status.idle": "2023-02-19T16:09:50.656568Z",
     "shell.execute_reply": "2023-02-19T16:09:50.655497Z",
     "shell.execute_reply.started": "2023-02-19T16:09:50.649271Z"
    },
    "papermill": {
     "duration": null,
     "end_time": null,
     "exception": null,
     "start_time": null,
     "status": "pending"
    },
    "tags": []
   },
   "outputs": [],
   "source": [
    "os.listdir('/kaggle/working/test')"
   ]
  },
  {
   "cell_type": "code",
   "execution_count": null,
   "id": "5aeafdd9",
   "metadata": {
    "execution": {
     "iopub.execute_input": "2023-02-19T16:10:05.652661Z",
     "iopub.status.busy": "2023-02-19T16:10:05.652307Z",
     "iopub.status.idle": "2023-02-19T16:10:07.317743Z",
     "shell.execute_reply": "2023-02-19T16:10:07.316753Z",
     "shell.execute_reply.started": "2023-02-19T16:10:05.652630Z"
    },
    "papermill": {
     "duration": null,
     "end_time": null,
     "exception": null,
     "start_time": null,
     "status": "pending"
    },
    "tags": []
   },
   "outputs": [],
   "source": [
    "with zipfile.ZipFile('/kaggle/input/the-nature-conservancy-fisheries-monitoring/test_stg1.zip', 'r') as train_zip:\n",
    "    train_zip.extractall('')\n",
    "\n",
    "base_dir = '/kaggle/working'\n",
    "test_dir = os.path.join(base_dir, 'test1')"
   ]
  },
  {
   "cell_type": "code",
   "execution_count": null,
   "id": "b9c1e701",
   "metadata": {
    "execution": {
     "iopub.execute_input": "2023-02-19T15:17:28.258234Z",
     "iopub.status.busy": "2023-02-19T15:17:28.257547Z",
     "iopub.status.idle": "2023-02-19T15:17:28.330637Z",
     "shell.execute_reply": "2023-02-19T15:17:28.329759Z",
     "shell.execute_reply.started": "2023-02-19T15:17:28.258195Z"
    },
    "papermill": {
     "duration": null,
     "end_time": null,
     "exception": null,
     "start_time": null,
     "status": "pending"
    },
    "tags": []
   },
   "outputs": [],
   "source": [
    "file_names = os.listdir('/kaggle/working/test_stg1')\n",
    "    \n",
    "for file_name in file_names:\n",
    "    shutil.move(os.path.join('/kaggle/working/test_stg1', file_name), '/kaggle/working/test')"
   ]
  },
  {
   "cell_type": "code",
   "execution_count": null,
   "id": "ed237531",
   "metadata": {
    "execution": {
     "iopub.execute_input": "2023-02-19T15:19:29.066423Z",
     "iopub.status.busy": "2023-02-19T15:19:29.066060Z",
     "iopub.status.idle": "2023-02-19T15:19:29.584864Z",
     "shell.execute_reply": "2023-02-19T15:19:29.583901Z",
     "shell.execute_reply.started": "2023-02-19T15:19:29.066391Z"
    },
    "papermill": {
     "duration": null,
     "end_time": null,
     "exception": null,
     "start_time": null,
     "status": "pending"
    },
    "tags": []
   },
   "outputs": [],
   "source": [
    "file_names = os.listdir('/kaggle/working/test/test_stg2')\n",
    "    \n",
    "for file_name in file_names:\n",
    "    shutil.move(os.path.join('/kaggle/working/test/test_stg2', file_name), '/kaggle/working/test')"
   ]
  },
  {
   "cell_type": "code",
   "execution_count": null,
   "id": "dbf3cf50",
   "metadata": {
    "papermill": {
     "duration": null,
     "end_time": null,
     "exception": null,
     "start_time": null,
     "status": "pending"
    },
    "tags": []
   },
   "outputs": [],
   "source": [
    "shutil.rmtree('/kaggle/working/test/test_stg2')\n",
    "shutil.rmtree('/kaggle/working/test_stg1')"
   ]
  },
  {
   "cell_type": "markdown",
   "id": "bbe86d3b",
   "metadata": {
    "papermill": {
     "duration": null,
     "end_time": null,
     "exception": null,
     "start_time": null,
     "status": "pending"
    },
    "tags": []
   },
   "source": [
    "## Sample sub"
   ]
  },
  {
   "cell_type": "code",
   "execution_count": null,
   "id": "6d17fc0f",
   "metadata": {
    "execution": {
     "iopub.execute_input": "2023-02-19T16:11:37.330319Z",
     "iopub.status.busy": "2023-02-19T16:11:37.329936Z",
     "iopub.status.idle": "2023-02-19T16:11:37.379051Z",
     "shell.execute_reply": "2023-02-19T16:11:37.378029Z",
     "shell.execute_reply.started": "2023-02-19T16:11:37.330286Z"
    },
    "papermill": {
     "duration": null,
     "end_time": null,
     "exception": null,
     "start_time": null,
     "status": "pending"
    },
    "tags": []
   },
   "outputs": [],
   "source": [
    "test_files_st1 = glob.glob('/kaggle/working/test_stg1/*.jpg')\n",
    "test_files_st2 = glob.glob('/kaggle/working/test/test_stg2/*.jpg')\n",
    "\n",
    "\n",
    "\n",
    "IMG_SIZE = (500,500)\n",
    "\n",
    "\n",
    "def load_image_vgg(path, target_size=IMG_SIZE):\n",
    "    img = cv2.imread(path)[...,::-1]\n",
    "    img = cv2.resize(img, target_size)\n",
    "    return vgg16.preprocess_input(img)\n",
    "\n",
    "\n",
    "def load_image_resnet(path, target_size=IMG_SIZE):\n",
    "    img = cv2.imread(path)[...,::-1]\n",
    "    img = cv2.resize(img, target_size)\n",
    "    return resnet50.preprocess_input(img)\n",
    "\n",
    "\n",
    "def predict_generator_vgg(files):\n",
    "    while True:\n",
    "        for path in files:\n",
    "            yield np.array([load_image_vgg(path)])\n",
    "            \n",
    "\n",
    "def predict_generator_resnet(files):\n",
    "    while True:\n",
    "        for path in files:\n",
    "            yield np.array([load_image_resnet(path)])"
   ]
  },
  {
   "cell_type": "code",
   "execution_count": null,
   "id": "565ecc71",
   "metadata": {
    "execution": {
     "iopub.execute_input": "2023-02-19T16:13:26.494983Z",
     "iopub.status.busy": "2023-02-19T16:13:26.494611Z",
     "iopub.status.idle": "2023-02-19T16:27:27.146737Z",
     "shell.execute_reply": "2023-02-19T16:27:27.145584Z",
     "shell.execute_reply.started": "2023-02-19T16:13:26.494952Z"
    },
    "papermill": {
     "duration": null,
     "end_time": null,
     "exception": null,
     "start_time": null,
     "status": "pending"
    },
    "tags": []
   },
   "outputs": [],
   "source": [
    "test_pred_1 = model_1.predict(\n",
    "    predict_generator_resnet(test_files_st1), steps=len(test_files_st1))\n",
    "\n",
    "test_pred_11 = model_1.predict(\n",
    "    predict_generator_resnet(test_files_st2), steps=len(test_files_st2))\n",
    "\n",
    "test_pred_21 = model_2.predict(\n",
    "    predict_generator_vgg(test_files_st1), steps=len(test_files_st1))\n",
    "\n",
    "test_pred_22 = model_2.predict(\n",
    "    predict_generator_vgg(test_files_st2), steps=len(test_files_st2))"
   ]
  },
  {
   "cell_type": "markdown",
   "id": "9d51c682",
   "metadata": {
    "papermill": {
     "duration": null,
     "end_time": null,
     "exception": null,
     "start_time": null,
     "status": "pending"
    },
    "tags": []
   },
   "source": [
    "## PLT result"
   ]
  },
  {
   "cell_type": "code",
   "execution_count": null,
   "id": "58eced2b",
   "metadata": {
    "execution": {
     "iopub.execute_input": "2023-02-19T16:36:48.657146Z",
     "iopub.status.busy": "2023-02-19T16:36:48.656781Z",
     "iopub.status.idle": "2023-02-19T16:36:52.276074Z",
     "shell.execute_reply": "2023-02-19T16:36:52.274766Z",
     "shell.execute_reply.started": "2023-02-19T16:36:48.657115Z"
    },
    "papermill": {
     "duration": null,
     "end_time": null,
     "exception": null,
     "start_time": null,
     "status": "pending"
    },
    "tags": []
   },
   "outputs": [],
   "source": [
    "fish = ['ALB', 'BET', 'DOL', 'LAG', 'NoF', 'OTHER', 'SHARK','YFT']\n",
    "f, ax = plt.subplots(5, 5, figsize = (15, 15))\n",
    "\n",
    "for i in range(0,25):\n",
    "    imgBGR = cv2.imread(test_files_st2[i])\n",
    "    imgRGB = cv2.cvtColor(imgBGR, cv2.COLOR_BGR2RGB)\n",
    "    \n",
    "    # a if condition else b\n",
    "    predicted_class = fish[np.argmax(test_pred_22[i])]\n",
    "\n",
    "    ax[i//5, i%5].imshow(imgRGB)\n",
    "    ax[i//5, i%5].axis('off')\n",
    "    ax[i//5, i%5].set_title(\"Predicted:{}\".format(predicted_class))    \n",
    "\n",
    "plt.show()"
   ]
  },
  {
   "cell_type": "markdown",
   "id": "490210f9",
   "metadata": {
    "papermill": {
     "duration": null,
     "end_time": null,
     "exception": null,
     "start_time": null,
     "status": "pending"
    },
    "tags": []
   },
   "source": [
    "## Predict file "
   ]
  },
  {
   "cell_type": "code",
   "execution_count": null,
   "id": "2ae36cff",
   "metadata": {
    "papermill": {
     "duration": null,
     "end_time": null,
     "exception": null,
     "start_time": null,
     "status": "pending"
    },
    "tags": []
   },
   "outputs": [],
   "source": [
    "test_files_st1, test_files_st2"
   ]
  },
  {
   "cell_type": "code",
   "execution_count": null,
   "id": "fc666a14",
   "metadata": {
    "execution": {
     "iopub.execute_input": "2023-02-19T16:43:06.517211Z",
     "iopub.status.busy": "2023-02-19T16:43:06.516861Z",
     "iopub.status.idle": "2023-02-19T16:43:06.535239Z",
     "shell.execute_reply": "2023-02-19T16:43:06.534123Z",
     "shell.execute_reply.started": "2023-02-19T16:43:06.517182Z"
    },
    "papermill": {
     "duration": null,
     "end_time": null,
     "exception": null,
     "start_time": null,
     "status": "pending"
    },
    "tags": []
   },
   "outputs": [],
   "source": [
    "result_list_1 = [x.split('/')[-1] for x in test_files_st1]\n",
    "result_list_11 = [x.split('/')[-2] + '/' + x.split('/')[-1] for x in test_files_st2]\n",
    "len(result_list_1), len(result_list_11)"
   ]
  },
  {
   "cell_type": "code",
   "execution_count": null,
   "id": "0908042f",
   "metadata": {
    "execution": {
     "iopub.execute_input": "2023-02-19T16:44:34.161068Z",
     "iopub.status.busy": "2023-02-19T16:44:34.160717Z",
     "iopub.status.idle": "2023-02-19T16:44:34.170363Z",
     "shell.execute_reply": "2023-02-19T16:44:34.169363Z",
     "shell.execute_reply.started": "2023-02-19T16:44:34.161038Z"
    },
    "papermill": {
     "duration": null,
     "end_time": null,
     "exception": null,
     "start_time": null,
     "status": "pending"
    },
    "tags": []
   },
   "outputs": [],
   "source": [
    "result1 = pd.concat([pd.DataFrame(result_list_1), pd.DataFrame(test_pred_1)], axis=1, ignore_index=True)\n",
    "result11 = pd.concat([pd.DataFrame(result_list_11), pd.DataFrame(test_pred_11)],axis=1, ignore_index=True)"
   ]
  },
  {
   "cell_type": "code",
   "execution_count": null,
   "id": "f08babae",
   "metadata": {
    "execution": {
     "iopub.execute_input": "2023-02-19T16:44:41.170581Z",
     "iopub.status.busy": "2023-02-19T16:44:41.170231Z",
     "iopub.status.idle": "2023-02-19T16:44:41.179251Z",
     "shell.execute_reply": "2023-02-19T16:44:41.178103Z",
     "shell.execute_reply.started": "2023-02-19T16:44:41.170550Z"
    },
    "papermill": {
     "duration": null,
     "end_time": null,
     "exception": null,
     "start_time": null,
     "status": "pending"
    },
    "tags": []
   },
   "outputs": [],
   "source": [
    "result2 = pd.concat([pd.DataFrame(result_list_1), pd.DataFrame(test_pred_21)], axis=1, ignore_index=True)\n",
    "result22 = pd.concat([pd.DataFrame(result_list_11), pd.DataFrame(test_pred_22)],axis=1, ignore_index=True)"
   ]
  },
  {
   "cell_type": "code",
   "execution_count": null,
   "id": "49557516",
   "metadata": {
    "execution": {
     "iopub.execute_input": "2023-02-19T16:44:55.149262Z",
     "iopub.status.busy": "2023-02-19T16:44:55.148589Z",
     "iopub.status.idle": "2023-02-19T16:44:55.175902Z",
     "shell.execute_reply": "2023-02-19T16:44:55.174740Z",
     "shell.execute_reply.started": "2023-02-19T16:44:55.149226Z"
    },
    "papermill": {
     "duration": null,
     "end_time": null,
     "exception": null,
     "start_time": null,
     "status": "pending"
    },
    "tags": []
   },
   "outputs": [],
   "source": [
    "names = ['image','ALB','BET','DOL','LAG','NoF','OTHER','SHARK','YFT']\n",
    "result_1 = pd.concat([result1, result11], ignore_index=True)\n",
    "result_2 = pd.concat([result2, result22], ignore_index=True)\n",
    "result_1.columns = names\n",
    "result_2.columns = names\n",
    "result_2"
   ]
  },
  {
   "cell_type": "code",
   "execution_count": null,
   "id": "5fe66460",
   "metadata": {
    "execution": {
     "iopub.execute_input": "2023-02-19T16:45:48.370356Z",
     "iopub.status.busy": "2023-02-19T16:45:48.370003Z",
     "iopub.status.idle": "2023-02-19T16:45:48.590030Z",
     "shell.execute_reply": "2023-02-19T16:45:48.588877Z",
     "shell.execute_reply.started": "2023-02-19T16:45:48.370326Z"
    },
    "papermill": {
     "duration": null,
     "end_time": null,
     "exception": null,
     "start_time": null,
     "status": "pending"
    },
    "tags": []
   },
   "outputs": [],
   "source": [
    "result_1.to_csv('result_1.csv', index=False)\n",
    "result_2.to_csv('result_2.csv', index=False)"
   ]
  },
  {
   "cell_type": "code",
   "execution_count": null,
   "id": "d9078195",
   "metadata": {
    "papermill": {
     "duration": null,
     "end_time": null,
     "exception": null,
     "start_time": null,
     "status": "pending"
    },
    "tags": []
   },
   "outputs": [],
   "source": []
  }
 ],
 "metadata": {
  "kernelspec": {
   "display_name": "Python 3",
   "language": "python",
   "name": "python3"
  },
  "language_info": {
   "codemirror_mode": {
    "name": "ipython",
    "version": 3
   },
   "file_extension": ".py",
   "mimetype": "text/x-python",
   "name": "python",
   "nbconvert_exporter": "python",
   "pygments_lexer": "ipython3",
   "version": "3.7.12"
  },
  "papermill": {
   "default_parameters": {},
   "duration": 34.364511,
   "end_time": "2023-02-19T16:47:03.498717",
   "environment_variables": {},
   "exception": true,
   "input_path": "__notebook__.ipynb",
   "output_path": "__notebook__.ipynb",
   "parameters": {},
   "start_time": "2023-02-19T16:46:29.134206",
   "version": "2.3.4"
  }
 },
 "nbformat": 4,
 "nbformat_minor": 5
}
